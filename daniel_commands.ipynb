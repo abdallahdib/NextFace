{
  "cells": [
    {
      "attachments": {},
      "cell_type": "markdown",
      "metadata": {},
      "source": [
        "Generate"
      ]
    },
    {
      "attachments": {},
      "cell_type": "markdown",
      "metadata": {},
      "source": [
        "Test : Reconstruction of a face from a single image"
      ]
    },
    {
      "cell_type": "code",
      "execution_count": null,
      "metadata": {},
      "outputs": [],
      "source": [
        "! py -u ./optimizer.py --input input/test/bikerman_512.png --output output/test/bikerman_512_loss "
      ]
    },
    {
      "attachments": {},
      "cell_type": "markdown",
      "metadata": {},
      "source": [
        "Test : Reconstruction of a faces from a folder"
      ]
    },
    {
      "cell_type": "code",
      "execution_count": null,
      "metadata": {},
      "outputs": [],
      "source": [
        "! py ./optimizer.py --input input/test/ --output output/test/all_images/mitsuba_cm3 "
      ]
    },
    {
      "attachments": {},
      "cell_type": "markdown",
      "metadata": {},
      "source": [
        "folder but mitsuba"
      ]
    },
    {
      "cell_type": "code",
      "execution_count": null,
      "metadata": {},
      "outputs": [],
      "source": [
        "import os\n",
        "import subprocess\n",
        "# Directory path containing all images\n",
        "imageFolderPath = './input/test/'\n",
        "\n",
        "outputDir = './output/test/mitsuba_final'\n",
        "#setup\n",
        "if not os.path.exists(outputDir):\n",
        "    os.makedirs(outputDir)  # Create the output directory if it doesn't exist\n",
        "# Get the names of all files in the specified directory\n",
        "image_names = [f for f in os.listdir(imageFolderPath) if os.path.isfile(os.path.join(imageFolderPath, f))]\n",
        "\n",
        "# Filter only image files by extensions (if required)\n",
        "image_paths = [os.path.join(imageFolderPath, image_name) for image_name in image_names if image_name.endswith(('.png', '.jpg', '.jpeg'))]\n",
        "\n",
        "# Print the command for each image\n",
        "for image_path in image_paths:\n",
        "    # Removing the './' from the image path\n",
        "    image_path = image_path.replace('./', '')\n",
        "    outputDir = outputDir.replace('./', '')\n",
        "    command = f'py ./optimizer.py --input {image_path} --output {outputDir}'\n",
        "    print(command)\n",
        "    # Execute the command using os.system(command) if desired\n",
        "    # os.system(command)\n",
        "    result = subprocess.run(command, stdout=subprocess.PIPE, stderr=subprocess.PIPE, shell=True)\n",
        "    print(result.stdout.decode())\n",
        "    "
      ]
    },
    {
      "cell_type": "code",
      "execution_count": 1,
      "metadata": {},
      "outputs": [
        {
          "name": "stderr",
          "output_type": "stream",
          "text": [
            "Traceback (most recent call last):\n",
            "  File \"c:\\Users\\dani_\\Desktop\\repos\\NextFace\\optimizer.py\", line 1, in <module>\n",
            "    from image import Image, ImageFolder, overlayImage, saveImage\n",
            "  File \"c:\\Users\\dani_\\Desktop\\repos\\NextFace\\image.py\", line 3, in <module>\n",
            "    import numpy as np\n",
            "ModuleNotFoundError: No module named 'numpy'\n"
          ]
        }
      ],
      "source": [
        "! python ./optimizer.py --input input/test/ --output output/test/redner_baseline_8spp"
      ]
    },
    {
      "cell_type": "code",
      "execution_count": null,
      "metadata": {},
      "outputs": [],
      "source": [
        "from PIL import Image\n",
        "import matplotlib.pyplot as plt\n",
        "def display_images_in_folder(folder_path):\n",
        "    # Iterate through the folder and subfolders\n",
        "    for root, dirs, files in os.walk(folder_path):\n",
        "        # Look for the file \"render0.png\" in the current directory\n",
        "        if \"render_0.png\" in files:\n",
        "            image_path = os.path.join(root, \"render_0.png\")\n",
        "            # Open the image using PIL\n",
        "            image = Image.open(image_path)\n",
        "            # Display the image\n",
        "            # Plot and display the image using Matplotlib\n",
        "            plt.imshow(image)\n",
        "            plt.axis('off')  # Turn off axis\n",
        "            plt.title(f\"Image from: {root}\")\n",
        "            plt.show()\n",
        "\n",
        "# Path to the output directory\n",
        "output_folder_path = outputDir\n",
        "\n",
        "# Call the function to find and display the images\n",
        "display_images_in_folder(output_folder_path)\n"
      ]
    }
  ],
  "metadata": {
    "accelerator": "GPU",
    "colab": {
      "name": "demo.ipynb",
      "provenance": []
    },
    "kernelspec": {
      "display_name": "Python 3",
      "language": "python",
      "name": "python3"
    },
    "language_info": {
      "codemirror_mode": {
        "name": "ipython",
        "version": 3
      },
      "file_extension": ".py",
      "mimetype": "text/x-python",
      "name": "python",
      "nbconvert_exporter": "python",
      "pygments_lexer": "ipython3",
      "version": "3.9.16"
    }
  },
  "nbformat": 4,
  "nbformat_minor": 0
}
